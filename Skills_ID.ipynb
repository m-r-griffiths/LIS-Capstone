{
 "cells": [
  {
   "cell_type": "code",
   "execution_count": 3,
   "metadata": {},
   "outputs": [],
   "source": [
    "import fitz  # Import the PyMuPDF library\n",
    "import pandas as pd\n",
    "pd.set_option('mode.copy_on_write', True)\n",
    "import re\n",
    "import os\n",
    "import glob\n",
    "import spacy\n",
    "nlp = spacy.load(\"en_core_web_sm\")\n",
    "from spacy.matcher import Matcher\n",
    "lemmatizer = nlp.get_pipe(\"lemmatizer\")\n",
    "import datetime\n",
    "import sklearn\n",
    "from sklearn.feature_extraction.text import TfidfVectorizer\n",
    "from sklearn.preprocessing import normalize\n",
    "import json\n",
    "import numpy as np\n",
    "import seaborn as sns\n",
    "    from kneed import KneeLocator\n",
    "import matplotlib.pyplot as plt"
   ]
  },
  {
   "cell_type": "code",
   "execution_count": 4,
   "metadata": {},
   "outputs": [],
   "source": [
    "current_datetime = datetime.datetime.now()"
   ]
  },
  {
   "cell_type": "code",
   "execution_count": 5,
   "metadata": {},
   "outputs": [],
   "source": [
    "#Import literature and store for pre-processing\n",
    "path = \"/Users/markrichardson-griffiths/Documents/Masters/Capstone/Data/Expert_Corpus/\"\n",
    "lit_docs = pd.read_csv(path + 'Bibliography.csv') #Bibilography of policy docs and their perspective \n",
    "\n",
    "df_lit_docs = pd.DataFrame(columns = ['Document', 'Raw Text', 'Perspective'])\n",
    "\n",
    "def extract_text_from_pdf(pdf_doc):\n",
    "    text = \"\"\n",
    "    # Open the PDF file\n",
    "    with fitz.open(pdf_doc) as pdf_document:\n",
    "        # Iterate over each page in the PDF\n",
    "        for page_number in range(len(pdf_document)):\n",
    "            # Get the page object\n",
    "            page = pdf_document.load_page(page_number)\n",
    "            # Extract text from the page\n",
    "            text += page.get_text()\n",
    "    return text\n",
    "\n",
    "for index, row in lit_docs.iterrows():\n",
    "    pdf_doc = path + str(row['Document'])\n",
    "    text = extract_text_from_pdf(pdf_doc)\n",
    "\n",
    "    # Append the text to the DataFrame\n",
    "    new_row = {'Document': str(row['Document']), 'Raw Text': text, 'Perspective': str(row['Perspective'])}\n",
    "    df_lit_docs.loc[len(df_lit_docs)] = new_row"
   ]
  },
  {
   "cell_type": "code",
   "execution_count": 6,
   "metadata": {},
   "outputs": [],
   "source": [
    "#Download lit. for use in the corresponding code when we compare with Civil Service Vacancies\n",
    "path = \"/Users/markrichardson-griffiths/Documents/Masters/Capstone/Data/Expert_Corpus/Consolidated/\"\n",
    "\n",
    "df_lit_docs.to_csv(path + 'consolidated_lit' + str(current_datetime) + '.csv', index=True)"
   ]
  },
  {
   "cell_type": "code",
   "execution_count": 7,
   "metadata": {},
   "outputs": [],
   "source": [
    "#Convert text to list \n",
    "lit_corpus = []\n",
    "lit_corpus_text = df_lit_docs['Raw Text'].tolist()\n",
    "\n",
    "#Capture the document perspectives for use later\n",
    "perspectives_unique = df_lit_docs['Perspective'].unique()\n",
    "list_perspectives= []\n",
    "\n",
    "for item in perspectives_unique:\n",
    "    count = (df_lit_docs['Perspective'] == item).sum()  \n",
    "    list_perspectives.extend([item] * count)"
   ]
  },
  {
   "cell_type": "code",
   "execution_count": 8,
   "metadata": {},
   "outputs": [
    {
     "name": "stdout",
     "output_type": "stream",
     "text": [
      "Total number of words in the corpus is: 1117037\n",
      "Perspective\n",
      "design_and_innovation               7\n",
      "interviews                          9\n",
      "making_interdisciplinarity_work    11\n",
      "making_the_case                    13\n",
      "reflection                         15\n",
      "dtype: int64\n"
     ]
    }
   ],
   "source": [
    "#Just for info. count the number of words in the corpuses being processed\n",
    "total_words = 0\n",
    "\n",
    "for item in lit_corpus_text:\n",
    "    words = item.split()\n",
    "    total_words += len(words)\n",
    "\n",
    "print(f\"Total number of words in the corpus is: {total_words}\")\n",
    "\n",
    "#For info. count the number of documents in each perspective\n",
    "print(df_lit_docs.groupby('Perspective').size())"
   ]
  },
  {
   "cell_type": "code",
   "execution_count": 9,
   "metadata": {},
   "outputs": [],
   "source": [
    "# Initialize the Matcher with the patterns\n",
    "file_path_patterns = file_path = '/Users/markrichardson-griffiths/Documents/Masters/Capstone/Data/Patterns/patterns_skills.json'\n",
    "\n",
    "# Load JSON file containing patterns\n",
    "with open(file_path_patterns, \"r\") as json_file:\n",
    "    patterns_data = json.load(json_file)\n",
    "\n",
    "# Create a Matcher object\n",
    "matcher = Matcher(nlp.vocab)\n",
    "\n",
    "for pattern_entry in patterns_data:\n",
    "    label = pattern_entry.get(\"label\")\n",
    "    pattern = pattern_entry.get(\"pattern\")\n",
    "    matcher.add(label, [pattern])"
   ]
  },
  {
   "cell_type": "code",
   "execution_count": 10,
   "metadata": {},
   "outputs": [
    {
     "name": "stderr",
     "output_type": "stream",
     "text": [
      "/Library/Frameworks/Python.framework/Versions/3.12/lib/python3.12/site-packages/sklearn/feature_extraction/text.py:525: UserWarning: The parameter 'token_pattern' will not be used since 'tokenizer' is not None'\n",
      "  warnings.warn(\n"
     ]
    }
   ],
   "source": [
    "#Run Tf-IDF\n",
    "\n",
    "#Store for manual check in order to improve patterns\n",
    "list_sentence=[]\n",
    "list_NP_original=[]\n",
    "list_NP_surface_form=[]\n",
    "\n",
    "chunk_size = 100_000  #For batch processing\n",
    "\n",
    "def custom_tokenizer(long_text):\n",
    "    # Process the text in chunks\n",
    "    chunks = [long_text[i:i+chunk_size] for i in range(0, len(long_text), chunk_size)]\n",
    "    docs = [nlp(chunk) for chunk in chunks]\n",
    "\n",
    "    for doc in docs:\n",
    "        return_NP_surface_form=[]\n",
    "        matches = matcher(doc)\n",
    "        for match_id, match_start, match_end in matches: # Note, there can be 2+ matches in a sentence \n",
    "            for sent in doc.sents:  #Store the source sentence\n",
    "                if match_start >= sent.start and match_end <= sent.end:\n",
    "                    sent_to_store = sent      \n",
    "            list_sentence.append(sent_to_store) #This is the original whole sentence\n",
    "            #Store the matched phrase\n",
    "            noun_phrase = doc[match_start:match_end]\n",
    "            list_NP_original.append(noun_phrase) #Capture the original noun-phrase\n",
    "            #Build-up and store the corresponding Lemma\n",
    "            lemmatized_NP = ' '.join(token.lemma_ for token in noun_phrase)\n",
    "            list_NP_surface_form.append(lemmatized_NP)\n",
    "            return_NP_surface_form.append(lemmatized_NP)\n",
    "\n",
    "        return(return_NP_surface_form)\n",
    "\n",
    "tfidf = TfidfVectorizer(tokenizer=custom_tokenizer, input = 'content', strip_accents = 'ascii', stop_words = 'english', max_features=400, use_idf=True)\n",
    "tfidf_matrix_lit_corpus = tfidf.fit_transform(lit_corpus_text)\n",
    "\n",
    "#Use L2 Normalisation\n",
    "tfidf_matrix_l2 = normalize(tfidf_matrix_lit_corpus, norm='l2')\n"
   ]
  },
  {
   "cell_type": "code",
   "execution_count": 11,
   "metadata": {},
   "outputs": [],
   "source": [
    "#Present overall Tf-IDF results\n",
    "#Convert to dense matrices\n",
    "dense_matrix_tfidf = tfidf_matrix_l2.todense().tolist() \n",
    "#Get feature names\n",
    "feature_names_lit = tfidf.get_feature_names_out()\n",
    "#Get index values\n",
    "#list_perspectives = df_lit_corpus_grouped['Perspective'].to_list() \n",
    "\n",
    "df_tfidf_results_ungrouped = pd.DataFrame(dense_matrix_tfidf,columns=feature_names_lit)\n",
    "df_tfidf_results_ungrouped.index = list_perspectives\n",
    "\n",
    "#Store results\n",
    "path = \"/Users/markrichardson-griffiths/Documents/Masters/Capstone/Data/Outputs/\"\n",
    "\n",
    "df_tfidf_results_ungrouped.to_csv(path + 'Skill_Phrases_All' + str(current_datetime) + '.csv', index=True)"
   ]
  },
  {
   "cell_type": "code",
   "execution_count": 10,
   "metadata": {},
   "outputs": [],
   "source": [
    "#Build-up results for manual check and pattern refinement\n",
    "list_features=[]\n",
    "list_np_surface_forms=[]\n",
    "list_np_original=[]\n",
    "list_sent=[]\n",
    "\n",
    "#Remove duplicate sentences from the sentence list\n",
    "unique_sentences = list(set(list_sentence))\n",
    "\n",
    "for feature in feature_names_lit:\n",
    "    try:    \n",
    "        index = list_NP_surface_form.index(feature)\n",
    "        surface_form = list_NP_surface_form[index]\n",
    "        np_original = list_NP_original[index].text\n",
    "        for sent in unique_sentences:\n",
    "            if np_original in sent.text.strip().lower():\n",
    "                list_features.append(feature)\n",
    "                list_np_surface_forms.append(surface_form)\n",
    "                list_np_original.append(np_original)\n",
    "                list_sent.append(sent.text)\n",
    "    except:\n",
    "        continue\n",
    "\n",
    "df_manual_review  = pd.DataFrame({ \n",
    "                                    'Feature': list_features,\n",
    "                                    'Surface Form': list_np_surface_forms,\n",
    "                                    'Original Noun Phrase': list_np_original,\n",
    "                                    'Sentences': list_sent\n",
    "                                    })\n",
    "\n",
    "\n",
    "df_manual_review.sort_values(by='Feature', ascending=False, inplace=True)\n",
    "\n",
    "df_manual_review.to_csv(path + 'Manual_Review_Skills_ID_' + str(current_datetime) + '.csv', index=True)"
   ]
  },
  {
   "cell_type": "code",
   "execution_count": 12,
   "metadata": {},
   "outputs": [],
   "source": [
    "#Create a dictionary object from the skill groups manually identified and mapped\n",
    "path = \"/Users/markrichardson-griffiths/Documents/Masters/Capstone/Data/Skill Groupings/\"\n",
    "\n",
    "skill_mapping = pd.read_excel(path + \"skill_groupings.xlsx\")\n",
    "\n",
    "dict_skill_groupings = {}\n",
    "\n",
    "#Build-up the dictionary\n",
    "for index, row in skill_mapping.iterrows():\n",
    "    key = row['Key']\n",
    "    value = row['Values']\n",
    "   \n",
    "    if key in dict_skill_groupings:\n",
    "        dict_skill_groupings[key].append(value)\n",
    "    else:\n",
    "        dict_skill_groupings[key] = [value]"
   ]
  },
  {
   "cell_type": "code",
   "execution_count": 13,
   "metadata": {},
   "outputs": [
    {
     "name": "stdout",
     "output_type": "stream",
     "text": [
      "unmatched value is: advocate innovation\n"
     ]
    }
   ],
   "source": [
    "#Group Tf-IDF features by higher level skill and calculate the mean tfidf scores -  i. by perspective ii. across all documents\n",
    "\n",
    "perspective=[]\n",
    "feature=[]\n",
    "mapped_skill=[]\n",
    "tfidf_results=[]\n",
    "\n",
    "for col_name, col_data in df_tfidf_results_ungrouped.items():\n",
    "    index_data = col_data.index #This is the document category - e.g., design and innovation\n",
    "    perspective.extend(index_data)\n",
    "    feature.extend([col_name] * len(col_data.values)) #Hold the unmapped feature\n",
    "    tfidf_results.extend(col_data.values)\n",
    "\n",
    "#Get at the higher-level skill\n",
    "    match = False\n",
    "    for key, value in dict_skill_groupings.items():\n",
    "        if col_name in value:\n",
    "            mapped_skill.extend([key] * len(col_data.values))\n",
    "            match = True\n",
    "            break\n",
    "        else:\n",
    "            continue\n",
    "    if match != True:\n",
    "        print(f\"unmatched value is: {col_name}\")\n",
    "        mapped_skill.extend(['Not Mapped'] * len(col_data.values))\n",
    "\n",
    "#Store as a DataFrame\n",
    "data = {'perspective': perspective,\n",
    "        'feature': feature,\n",
    "        'mapped skill': mapped_skill,\n",
    "        'tf_idf': tfidf_results\n",
    "        }\n",
    "\n",
    "df_tfidf_mapped = pd.DataFrame(data)\n",
    "\n",
    "df_tfidf_mapped.drop('feature', axis=1, inplace=True)\n",
    "\n",
    "#Calc. mean TFIDF by perspective and higher-level skill\n",
    "df_tfidf_grouped_by_perspective = df_tfidf_mapped.groupby(['perspective', 'mapped skill']).mean()\n",
    "\n",
    "#Calc. mean by higher-level skill only\n",
    "df_tfidf_mapped.drop('perspective', axis=1, inplace=True)\n",
    "df_tfidf_grouped_by_higher_skills = df_tfidf_mapped.groupby(['mapped skill']).mean()"
   ]
  },
  {
   "cell_type": "code",
   "execution_count": 14,
   "metadata": {},
   "outputs": [],
   "source": [
    "#If desired only - store results\n",
    "path = \"/Users/markrichardson-griffiths/Documents/Masters/Capstone/Data/Outputs/\"\n",
    "current_datetime = datetime.datetime.now()\n",
    "\n",
    "df_tfidf_grouped_by_perspective.to_csv(path + 'tfidf_mean_by_perspective' + str(current_datetime) + '.csv', index=True)\n",
    "df_tfidf_grouped_by_higher_skills.to_csv(path + 'tfidf_mean_by_higher_skill' + str(current_datetime) + '.csv', index=True)"
   ]
  },
  {
   "cell_type": "code",
   "execution_count": 15,
   "metadata": {},
   "outputs": [],
   "source": [
    "df_tfidf_grouped_by_perspective.reset_index(inplace=True)\n",
    "df_tfidf_grouped_by_higher_skills.reset_index(inplace=True)"
   ]
  },
  {
   "cell_type": "code",
   "execution_count": 16,
   "metadata": {},
   "outputs": [],
   "source": [
    "#Manual intervention - remove higher-level skills groupings that lack specificity\n",
    "skills_to_remove = ['Mission Governance',\n",
    "                    'Mission Delivery',\n",
    "                    'Mission Design',\n",
    "                    'Mission Support']\n",
    "\n",
    "df_tfidf_grouped_by_perspective = df_tfidf_grouped_by_perspective[~df_tfidf_grouped_by_perspective['mapped skill'].isin(skills_to_remove)]\n",
    "df_tfidf_grouped_by_higher_skills = df_tfidf_grouped_by_higher_skills[~df_tfidf_grouped_by_higher_skills['mapped skill'].isin(skills_to_remove)]\n"
   ]
  },
  {
   "cell_type": "code",
   "execution_count": 23,
   "metadata": {},
   "outputs": [
    {
     "name": "stdout",
     "output_type": "stream",
     "text": [
      "Elbow point is at index: 16\n"
     ]
    },
    {
     "data": {
      "image/png": "[encoded data removed]",
      "text/plain": [
       "<Figure size 640x480 with 1 Axes>"
      ]
     },
     "metadata": {},
     "output_type": "display_data"
    }
   ],
   "source": [
    "#Identify the most important skills - calculate n based on elbow point\n",
    "\n",
    "# Sort values in descending order\n",
    "sorted_skills = df_tfidf_grouped_by_higher_skills['tf_idf'].sort_values(ascending=False).reset_index(drop=True)\n",
    "\n",
    "#Find and graph the elbow point\n",
    "knee_locator = KneeLocator(range(len(sorted_skills)), sorted_skills, curve='convex', direction='decreasing', S=2.0)\n",
    "elbow_point = knee_locator.elbow\n",
    "\n",
    "plt.plot(sorted_skills)\n",
    "\n",
    "plt.axvline(x=elbow_point, color='r', linestyle='--')\n",
    "print(f'Elbow point is at index: {elbow_point}')\n",
    "\n",
    "plt.xlabel('Number of Identified Skills')\n",
    "plt.ylabel('Tf-IDF Value')\n",
    "plt.title('Elbow Point Identification')\n",
    "plt.show()\n",
    "\n",
    "top_n = elbow_point"
   ]
  },
  {
   "cell_type": "code",
   "execution_count": 18,
   "metadata": {},
   "outputs": [],
   "source": [
    "#Retrieve the most important skills\n",
    "top_indices = df_tfidf_grouped_by_higher_skills['tf_idf'].nlargest(top_n).index\n",
    "df_top_tfidf_across_perspectives = df_tfidf_grouped_by_higher_skills.loc[top_indices, ['mapped skill', 'tf_idf']]\n",
    "\n",
    "#Store as a list for subsequent use alongside Civil Service vacancies\n",
    "df_skills_for_tracking = df_top_tfidf_across_perspectives['mapped skill']\n",
    "\n",
    "path = \"/Users/markrichardson-griffiths/Documents/Masters/Capstone/Data/Outputs/\"\n",
    "current_datetime = datetime.datetime.now()\n",
    "\n",
    "df_skills_for_tracking.to_csv(path + 'Skills_for_tracking' + str(current_datetime) + '.csv', index=True)"
   ]
  },
  {
   "cell_type": "code",
   "execution_count": 19,
   "metadata": {},
   "outputs": [
    {
     "name": "stdout",
     "output_type": "stream",
     "text": [
      "32                  Experimentation\n",
      "17                       Creativity\n",
      "56         Participatory Approaches\n",
      "34                        Foresight\n",
      "11                        Co-design\n",
      "95       Working across disciplines\n",
      "3                           Agility\n",
      "39             Influence Innovation\n",
      "76                        Set Focus\n",
      "88                       Take Risks\n",
      "2                      Adaptability\n",
      "51                     Mobilisation\n",
      "24                  Design Thinking\n",
      "60    Portfolio Design / Management\n",
      "86                   System Mapping\n",
      "10               Citizen Engagement\n",
      "Name: mapped skill, dtype: object\n"
     ]
    }
   ],
   "source": [
    "print(df_skills_for_tracking)"
   ]
  },
  {
   "cell_type": "code",
   "execution_count": 20,
   "metadata": {},
   "outputs": [],
   "source": [
    "#Count the number of perspectives that a skill appears in, and bring together with the Tf-IDF mean across all documents\n",
    "filtered_df = df_tfidf_grouped_by_perspective[df_tfidf_grouped_by_perspective['tf_idf'] != 0.0]\n",
    "\n",
    "count_non_zero = filtered_df.groupby('mapped skill').size()\n",
    "\n",
    "#Convert series to dataframe\n",
    "df_count_no_perspectives_skill = count_non_zero.reset_index()\n",
    "df_count_no_perspectives_skill.columns = ['mapped skill', 'perspective count']\n",
    "\n",
    "#Combine the two dataframes\n",
    "combined_results = df_top_tfidf_across_perspectives.merge(df_count_no_perspectives_skill, on='mapped skill', how='left')\n",
    "sorted_combined_results = combined_results.sort_values(by='tf_idf', ascending=False)"
   ]
  },
  {
   "cell_type": "code",
   "execution_count": 21,
   "metadata": {},
   "outputs": [],
   "source": [
    "#For info - store combined dataframes\n",
    "path = \"/Users/markrichardson-griffiths/Documents/Masters/Capstone/Data/Outputs/\"\n",
    "current_datetime = datetime.datetime.now()\n",
    "\n",
    "filtered_df.to_csv(path + 'perspective_and_mapped_skills' + str(current_datetime) + '.csv', index=True)\n",
    "sorted_combined_results.to_csv(path + 'skills_id_combined_results' + str(current_datetime) + '.csv', index=True)"
   ]
  }
 ],
 "metadata": {
  "kernelspec": {
   "display_name": "Python 3",
   "language": "python",
   "name": "python3"
  },
  "language_info": {
   "codemirror_mode": {
    "name": "ipython",
    "version": 3
   },
   "file_extension": ".py",
   "mimetype": "text/x-python",
   "name": "python",
   "nbconvert_exporter": "python",
   "pygments_lexer": "ipython3",
   "version": "3.12.1"
  }
 },
 "nbformat": 4,
 "nbformat_minor": 2
}
